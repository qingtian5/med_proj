{
 "cells": [
  {
   "cell_type": "code",
   "execution_count": 68,
   "metadata": {},
   "outputs": [],
   "source": [
    "import pandas as pd\n",
    "import numpy as np\n",
    "import os\n",
    "import json\n",
    "\n",
    "# 读取数据\n",
    "root_path = \"/workspace/med_proj\"\n",
    "file_path = f\"{root_path}/data/all_data.xlsx\"\n",
    "data = pd.read_excel(file_path)\n",
    "\n",
    "id2cluster = pd.read_csv(f\"{root_path}/data/result.csv\", index_col=None, header=0)\n",
    "with open(f\"{root_path}/results/dataprocess/72h/name_id_mapping.json\", \"r\", encoding=\"utf-8\") as f:\n",
    "    name2id = json.load(f)\n",
    "id2name = {v: k for k, v in name2id.items()}\n",
    "\n",
    "name2cluster = {}\n",
    "for index, row in id2cluster.iterrows():\n",
    "    name2cluster[id2name[row['ID']]] = row['cluster']\n",
    "\n",
    "# df_filtered = data[data['姓名'].isin(name2id.keys())]\n",
    "\n",
    "# # 将 name2id 中的对应ID添加到新列中\n",
    "# df_filtered['cluster'] = df_filtered['姓名'].map(name2cluster)\n",
    "# df_filtered.rename(columns={'姓名': 'name'}, inplace=True)\n",
    "# df_filtered['性别'] = df_filtered['性别'].replace({'男': 0, '女': 1})\n",
    "# df_filtered['转归'] = df_filtered['转归'].replace({'存活': 1,'死亡': 0, '好转': 1, \"未愈\": 0, \"其他\":1})\n",
    "# df_filtered['机械通气'] = df_filtered['机械通气'].replace({'无': 0, '有': 1})\n",
    "# df_filtered['是否二感'] = df_filtered['是否二感'].replace({'否': 0, '是': 1, '疑似': 0})\n",
    "# df_filtered['慢性病个数'] = df_filtered['慢性病个数'].replace({0: 0, 1: 1, 2: 1, 3: 2, 4: 2, 5: 2, 6: 2})\n",
    "\n",
    "\n",
    "df_filtered = data[data['姓名'].isin(name2id.keys())].copy()\n",
    "df_filtered.loc[:, 'cluster'] = df_filtered['姓名'].map(name2cluster)\n",
    "\n",
    "df_filtered = df_filtered.rename(columns={'姓名': 'name'})\n",
    "\n",
    "df_filtered.loc[:, '性别'] = df_filtered['性别'].map({'男': 0, '女': 1})\n",
    "df_filtered['性别'] = df_filtered['性别'].astype(int)\n",
    "df_filtered.loc[:, '转归'] = df_filtered['转归'].map({'存活': 1, '死亡': 0, '好转': 1, \"未愈\": 0, \"其他\": 1})\n",
    "df_filtered['转归'] = df_filtered['转归'].astype(int)\n",
    "df_filtered.loc[:, '机械通气'] = df_filtered['机械通气'].map({'无': 0, '有': 1})\n",
    "df_filtered['机械通气'] = df_filtered['机械通气'].astype(int)\n",
    "df_filtered.loc[:, '是否二感'] = df_filtered['是否二感'].map({'否': 0, '是': 1, '疑似': 0})\n",
    "df_filtered['是否二感'] = df_filtered['是否二感'].astype(int)\n",
    "df_filtered.loc[:, '慢性病个数'] = df_filtered['慢性病个数'].map({0: 0, 1: 1, 2: 1, 3: 2, 4: 2, 5: 2, 6: 2})\n",
    "df_filtered['慢性病个数'] = df_filtered['慢性病个数'].astype(int)\n",
    "\n",
    "df_filtered.to_csv(f'{root_path}/results/multireg/cluster_feature_adjust.csv', index=False)"
   ]
  },
  {
   "cell_type": "code",
   "execution_count": 72,
   "metadata": {},
   "outputs": [],
   "source": [
    "import pandas as pd\n",
    "import statsmodels.api as sm\n",
    "from sklearn.preprocessing import OneHotEncoder\n",
    "\n",
    "df = df_filtered\n",
    "\n",
    "# 生成 cluster 的虚拟变量，基准类别为 cluster=4\n",
    "df = pd.get_dummies(df, columns=['cluster'], drop_first=False)\n",
    "df = df.rename(columns={'cluster_1': 'cluster_1', 'cluster_2': 'cluster_2', 'cluster_3': 'cluster_3'})\n",
    "# df = df.drop(columns=['cluster_4'])\n",
    "\n",
    "# 生成慢性病个数的虚拟变量，基准类别为 0 (没有慢性病)\n",
    "df = pd.get_dummies(df, columns=['慢性病个数'], drop_first=True)\n",
    "df = df.rename(columns={'慢性病个数_1': '慢性病个数_1', '慢性病个数_2': '慢性病个数_2'})"
   ]
  },
  {
   "cell_type": "code",
   "execution_count": 73,
   "metadata": {},
   "outputs": [],
   "source": [
    "df['cluster_1'] = df['cluster_1'].astype(int)\n",
    "df['cluster_2'] = df['cluster_2'].astype(int)\n",
    "df['cluster_3'] = df['cluster_3'].astype(int)\n",
    "df['慢性病个数_1'] = df['慢性病个数_1'].astype(int)\n",
    "df['慢性病个数_2'] = df['慢性病个数_2'].astype(int)"
   ]
  },
  {
   "cell_type": "code",
   "execution_count": 74,
   "metadata": {},
   "outputs": [
    {
     "name": "stdout",
     "output_type": "stream",
     "text": [
      "Optimization terminated successfully.\n",
      "         Current function value: 0.586460\n",
      "         Iterations 6\n",
      "                           Logit Regression Results                           \n",
      "==============================================================================\n",
      "Dep. Variable:                     转归   No. Observations:                  288\n",
      "Model:                          Logit   Df Residuals:                      279\n",
      "Method:                           MLE   Df Model:                            8\n",
      "Date:                Tue, 14 May 2024   Pseudo R-squ.:                 0.05575\n",
      "Time:                        14:42:19   Log-Likelihood:                -168.90\n",
      "converged:                       True   LL-Null:                       -178.87\n",
      "Covariance Type:            nonrobust   LLR p-value:                   0.01055\n",
      "==============================================================================\n",
      "                 coef    std err          z      P>|z|      [0.025      0.975]\n",
      "------------------------------------------------------------------------------\n",
      "const          1.2401      0.847      1.464      0.143      -0.420       2.900\n",
      "性别             0.2911      0.274      1.063      0.288      -0.246       0.828\n",
      "年龄            -0.0101      0.010     -0.967      0.334      -0.030       0.010\n",
      "APACHE        -0.0478      0.019     -2.567      0.010      -0.084      -0.011\n",
      "cluster_1     -0.8367      0.496     -1.688      0.091      -1.808       0.135\n",
      "cluster_2     -0.9968      0.410     -2.432      0.015      -1.800      -0.193\n",
      "cluster_3     -0.5546      0.362     -1.532      0.126      -1.264       0.155\n",
      "慢性病个数_1        0.0744      0.410      0.182      0.856      -0.728       0.877\n",
      "慢性病个数_2       -0.1821      0.482     -0.378      0.706      -1.127       0.763\n",
      "==============================================================================\n"
     ]
    }
   ],
   "source": [
    "# 定义自变量和因变量\n",
    "X = df[['性别', '年龄', 'APACHE', 'cluster_1', 'cluster_2', 'cluster_3', '慢性病个数_1', '慢性病个数_2']]\n",
    "y = df['转归']\n",
    "\n",
    "# 添加常数项\n",
    "X = sm.add_constant(X)\n",
    "\n",
    "# 建立逻辑回归模型\n",
    "logit_model = sm.Logit(y, X)\n",
    "result = logit_model.fit()\n",
    "\n",
    "# 输出结果\n",
    "print(result.summary())\n"
   ]
  },
  {
   "cell_type": "code",
   "execution_count": null,
   "metadata": {},
   "outputs": [],
   "source": []
  }
 ],
 "metadata": {
  "kernelspec": {
   "display_name": "base",
   "language": "python",
   "name": "python3"
  },
  "language_info": {
   "codemirror_mode": {
    "name": "ipython",
    "version": 3
   },
   "file_extension": ".py",
   "mimetype": "text/x-python",
   "name": "python",
   "nbconvert_exporter": "python",
   "pygments_lexer": "ipython3",
   "version": "3.9.16"
  }
 },
 "nbformat": 4,
 "nbformat_minor": 2
}
