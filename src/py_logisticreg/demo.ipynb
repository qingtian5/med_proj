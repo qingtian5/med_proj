{
 "cells": [
  {
   "cell_type": "code",
   "execution_count": 18,
   "metadata": {},
   "outputs": [
    {
     "name": "stderr",
     "output_type": "stream",
     "text": [
      "/tmp/ipykernel_811517/482610033.py:23: SettingWithCopyWarning: \n",
      "A value is trying to be set on a copy of a slice from a DataFrame.\n",
      "Try using .loc[row_indexer,col_indexer] = value instead\n",
      "\n",
      "See the caveats in the documentation: https://pandas.pydata.org/pandas-docs/stable/user_guide/indexing.html#returning-a-view-versus-a-copy\n",
      "  df_filtered['cluster'] = df_filtered['姓名'].map(name2cluster)\n",
      "/tmp/ipykernel_811517/482610033.py:24: SettingWithCopyWarning: \n",
      "A value is trying to be set on a copy of a slice from a DataFrame\n",
      "\n",
      "See the caveats in the documentation: https://pandas.pydata.org/pandas-docs/stable/user_guide/indexing.html#returning-a-view-versus-a-copy\n",
      "  df_filtered.rename(columns={'姓名': 'name'}, inplace=True)\n",
      "/tmp/ipykernel_811517/482610033.py:25: FutureWarning: Downcasting behavior in `replace` is deprecated and will be removed in a future version. To retain the old behavior, explicitly call `result.infer_objects(copy=False)`. To opt-in to the future behavior, set `pd.set_option('future.no_silent_downcasting', True)`\n",
      "  df_filtered['性别'] = df_filtered['性别'].replace({'男': 0, '女': 1})\n",
      "/tmp/ipykernel_811517/482610033.py:25: SettingWithCopyWarning: \n",
      "A value is trying to be set on a copy of a slice from a DataFrame.\n",
      "Try using .loc[row_indexer,col_indexer] = value instead\n",
      "\n",
      "See the caveats in the documentation: https://pandas.pydata.org/pandas-docs/stable/user_guide/indexing.html#returning-a-view-versus-a-copy\n",
      "  df_filtered['性别'] = df_filtered['性别'].replace({'男': 0, '女': 1})\n",
      "/tmp/ipykernel_811517/482610033.py:26: FutureWarning: Downcasting behavior in `replace` is deprecated and will be removed in a future version. To retain the old behavior, explicitly call `result.infer_objects(copy=False)`. To opt-in to the future behavior, set `pd.set_option('future.no_silent_downcasting', True)`\n",
      "  df_filtered['转归'] = df_filtered['转归'].replace({'存活': 1,'死亡': 0, '好转': 1, \"未愈\": 0, \"其他\":1})\n",
      "/tmp/ipykernel_811517/482610033.py:26: SettingWithCopyWarning: \n",
      "A value is trying to be set on a copy of a slice from a DataFrame.\n",
      "Try using .loc[row_indexer,col_indexer] = value instead\n",
      "\n",
      "See the caveats in the documentation: https://pandas.pydata.org/pandas-docs/stable/user_guide/indexing.html#returning-a-view-versus-a-copy\n",
      "  df_filtered['转归'] = df_filtered['转归'].replace({'存活': 1,'死亡': 0, '好转': 1, \"未愈\": 0, \"其他\":1})\n",
      "/tmp/ipykernel_811517/482610033.py:27: FutureWarning: Downcasting behavior in `replace` is deprecated and will be removed in a future version. To retain the old behavior, explicitly call `result.infer_objects(copy=False)`. To opt-in to the future behavior, set `pd.set_option('future.no_silent_downcasting', True)`\n",
      "  df_filtered['机械通气'] = df_filtered['机械通气'].replace({'无': 0, '有': 1})\n",
      "/tmp/ipykernel_811517/482610033.py:27: SettingWithCopyWarning: \n",
      "A value is trying to be set on a copy of a slice from a DataFrame.\n",
      "Try using .loc[row_indexer,col_indexer] = value instead\n",
      "\n",
      "See the caveats in the documentation: https://pandas.pydata.org/pandas-docs/stable/user_guide/indexing.html#returning-a-view-versus-a-copy\n",
      "  df_filtered['机械通气'] = df_filtered['机械通气'].replace({'无': 0, '有': 1})\n",
      "/tmp/ipykernel_811517/482610033.py:28: FutureWarning: Downcasting behavior in `replace` is deprecated and will be removed in a future version. To retain the old behavior, explicitly call `result.infer_objects(copy=False)`. To opt-in to the future behavior, set `pd.set_option('future.no_silent_downcasting', True)`\n",
      "  df_filtered['是否二感'] = df_filtered['是否二感'].replace({'否': 0, '是': 1, '疑似': 0})\n",
      "/tmp/ipykernel_811517/482610033.py:28: SettingWithCopyWarning: \n",
      "A value is trying to be set on a copy of a slice from a DataFrame.\n",
      "Try using .loc[row_indexer,col_indexer] = value instead\n",
      "\n",
      "See the caveats in the documentation: https://pandas.pydata.org/pandas-docs/stable/user_guide/indexing.html#returning-a-view-versus-a-copy\n",
      "  df_filtered['是否二感'] = df_filtered['是否二感'].replace({'否': 0, '是': 1, '疑似': 0})\n",
      "/tmp/ipykernel_811517/482610033.py:29: SettingWithCopyWarning: \n",
      "A value is trying to be set on a copy of a slice from a DataFrame.\n",
      "Try using .loc[row_indexer,col_indexer] = value instead\n",
      "\n",
      "See the caveats in the documentation: https://pandas.pydata.org/pandas-docs/stable/user_guide/indexing.html#returning-a-view-versus-a-copy\n",
      "  df_filtered['慢性病个数'] = df_filtered['慢性病个数'].replace({0: 0, 1: 1, 2: 1, 4: 2, 5: 2, 6: 2})\n"
     ]
    }
   ],
   "source": [
    "import pandas as pd\n",
    "import numpy as np\n",
    "import os\n",
    "import json\n",
    "\n",
    "# 读取数据\n",
    "root_path = \"/workspace/med_proj\"\n",
    "file_path = f\"{root_path}/data/all_data.xlsx\"\n",
    "data = pd.read_excel(file_path)\n",
    "\n",
    "id2cluster = pd.read_csv(f\"{root_path}/data/result.csv\", index_col=None, header=0)\n",
    "with open(f\"{root_path}/results/dataprocess/72h/name_id_mapping.json\", \"r\", encoding=\"utf-8\") as f:\n",
    "    name2id = json.load(f)\n",
    "id2name = {v: k for k, v in name2id.items()}\n",
    "\n",
    "name2cluster = {}\n",
    "for index, row in id2cluster.iterrows():\n",
    "    name2cluster[id2name[row['ID']]] = row['cluster']\n",
    "\n",
    "df_filtered = data[data['姓名'].isin(name2id.keys())]\n",
    "\n",
    "# 将 name2id 中的对应ID添加到新列中\n",
    "df_filtered['cluster'] = df_filtered['姓名'].map(name2cluster)\n",
    "df_filtered.rename(columns={'姓名': 'name'}, inplace=True)\n",
    "df_filtered['性别'] = df_filtered['性别'].replace({'男': 0, '女': 1})\n",
    "df_filtered['转归'] = df_filtered['转归'].replace({'存活': 1,'死亡': 0, '好转': 1, \"未愈\": 0, \"其他\":1})\n",
    "df_filtered['机械通气'] = df_filtered['机械通气'].replace({'无': 0, '有': 1})\n",
    "df_filtered['是否二感'] = df_filtered['是否二感'].replace({'否': 0, '是': 1, '疑似': 0})\n",
    "df_filtered['慢性病个数'] = df_filtered['慢性病个数'].replace({0: 0, 1: 1, 2: 1, 4: 2, 5: 2, 6: 2})\n",
    "\n",
    "df_filtered.to_csv(f'{root_path}/results/multireg/cluster_feature_adjust.csv', index=False)"
   ]
  },
  {
   "cell_type": "code",
   "execution_count": 19,
   "metadata": {},
   "outputs": [],
   "source": [
    "import pandas as pd\n",
    "import statsmodels.api as sm\n",
    "from sklearn.preprocessing import OneHotEncoder\n",
    "\n",
    "df = df_filtered\n",
    "\n",
    "# 生成 cluster 的虚拟变量，基准类别为 cluster=3\n",
    "df = pd.get_dummies(df, columns=['cluster'], drop_first=False)\n",
    "df = df.rename(columns={'cluster_1': 'cluster_1', 'cluster_2': 'cluster_2', 'cluster_3': 'cluster_3'})\n",
    "df = df.drop(columns=['cluster_4'])\n",
    "\n",
    "# 生成慢性病个数的虚拟变量，基准类别为 1 (没有慢性病)\n",
    "df = pd.get_dummies(df, columns=['慢性病个数'], drop_first=True)\n",
    "df = df.rename(columns={'慢性病个数_2': '慢性病个数_2', '慢性病个数_3': '慢性病个数_3'})"
   ]
  },
  {
   "cell_type": "code",
   "execution_count": 20,
   "metadata": {},
   "outputs": [],
   "source": [
    "df['cluster_1'] = df['cluster_1'].astype(int)\n",
    "df['cluster_2'] = df['cluster_2'].astype(int)\n",
    "df['cluster_3'] = df['cluster_3'].astype(int)\n",
    "df['慢性病个数_2'] = df['慢性病个数_2'].astype(int)\n",
    "df['慢性病个数_3'] = df['慢性病个数_3'].astype(int)"
   ]
  },
  {
   "cell_type": "code",
   "execution_count": 21,
   "metadata": {},
   "outputs": [
    {
     "name": "stdout",
     "output_type": "stream",
     "text": [
      "Optimization terminated successfully.\n",
      "         Current function value: 0.580601\n",
      "         Iterations 6\n",
      "                           Logit Regression Results                           \n",
      "==============================================================================\n",
      "Dep. Variable:                     转归   No. Observations:                  288\n",
      "Model:                          Logit   Df Residuals:                      279\n",
      "Method:                           MLE   Df Model:                            8\n",
      "Date:                Mon, 13 May 2024   Pseudo R-squ.:                 0.06518\n",
      "Time:                        16:34:15   Log-Likelihood:                -167.21\n",
      "converged:                       True   LL-Null:                       -178.87\n",
      "Covariance Type:            nonrobust   LLR p-value:                  0.002978\n",
      "==============================================================================\n",
      "                 coef    std err          z      P>|z|      [0.025      0.975]\n",
      "------------------------------------------------------------------------------\n",
      "const          1.3082      0.814      1.608      0.108      -0.286       2.903\n",
      "性别             0.2853      0.275      1.038      0.299      -0.253       0.824\n",
      "年龄            -0.0094      0.010     -0.902      0.367      -0.030       0.011\n",
      "APACHE        -0.0488      0.019     -2.617      0.009      -0.085      -0.012\n",
      "cluster_1     -0.9439      0.501     -1.883      0.060      -1.926       0.039\n",
      "cluster_2     -1.0621      0.408     -2.601      0.009      -1.862      -0.262\n",
      "cluster_3     -0.6069      0.362     -1.675      0.094      -1.317       0.103\n",
      "慢性病个数_2       -1.1650      0.663     -1.758      0.079      -2.464       0.134\n",
      "慢性病个数_3        0.0772      0.364      0.212      0.832      -0.637       0.792\n",
      "==============================================================================\n"
     ]
    }
   ],
   "source": [
    "# 定义自变量和因变量\n",
    "X = df[['性别', '年龄', 'APACHE', 'cluster_1', 'cluster_2', 'cluster_3', '慢性病个数_2', '慢性病个数_3']]\n",
    "y = df['转归']\n",
    "\n",
    "# 添加常数项\n",
    "X = sm.add_constant(X)\n",
    "\n",
    "# 建立逻辑回归模型\n",
    "logit_model = sm.Logit(y, X)\n",
    "result = logit_model.fit()\n",
    "\n",
    "# 输出结果\n",
    "print(result.summary())\n"
   ]
  },
  {
   "cell_type": "code",
   "execution_count": null,
   "metadata": {},
   "outputs": [],
   "source": []
  }
 ],
 "metadata": {
  "kernelspec": {
   "display_name": "base",
   "language": "python",
   "name": "python3"
  },
  "language_info": {
   "codemirror_mode": {
    "name": "ipython",
    "version": 3
   },
   "file_extension": ".py",
   "mimetype": "text/x-python",
   "name": "python",
   "nbconvert_exporter": "python",
   "pygments_lexer": "ipython3",
   "version": "3.9.16"
  }
 },
 "nbformat": 4,
 "nbformat_minor": 2
}
