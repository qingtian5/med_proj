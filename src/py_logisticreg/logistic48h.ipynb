{
 "cells": [
  {
   "cell_type": "code",
   "execution_count": 1,
   "metadata": {},
   "outputs": [],
   "source": [
    "import pandas as pd\n",
    "import numpy as np\n",
    "import os\n",
    "import json\n",
    "\n",
    "# 读取数据\n",
    "root_path = \"/workspace/med_proj\"\n",
    "file_path = f\"{root_path}/data/all_data.xlsx\"\n",
    "data = pd.read_excel(file_path)\n",
    "\n",
    "id2cluster = pd.read_csv(f\"{root_path}/data/48h/result.csv\", index_col=None, header=0)\n",
    "with open(f\"{root_path}/results/dataprocess/48h/name_id_mapping.json\", \"r\", encoding=\"utf-8\") as f:\n",
    "    name2id = json.load(f)\n",
    "id2name = {v: k for k, v in name2id.items()}\n",
    "\n",
    "name2cluster = {}\n",
    "for index, row in id2cluster.iterrows():\n",
    "    name2cluster[id2name[row['ID']]] = row['cluster']\n",
    "\n",
    "# df_filtered = data[data['姓名'].isin(name2id.keys())]\n",
    "\n",
    "# # 将 name2id 中的对应ID添加到新列中\n",
    "# df_filtered['cluster'] = df_filtered['姓名'].map(name2cluster)\n",
    "# df_filtered.rename(columns={'姓名': 'name'}, inplace=True)\n",
    "# df_filtered['性别'] = df_filtered['性别'].replace({'男': 0, '女': 1})\n",
    "# df_filtered['转归'] = df_filtered['转归'].replace({'存活': 1,'死亡': 0, '好转': 1, \"未愈\": 0, \"其他\":1})\n",
    "# df_filtered['机械通气'] = df_filtered['机械通气'].replace({'无': 0, '有': 1})\n",
    "# df_filtered['是否二感'] = df_filtered['是否二感'].replace({'否': 0, '是': 1, '疑似': 0})\n",
    "# df_filtered['慢性病个数'] = df_filtered['慢性病个数'].replace({0: 0, 1: 1, 2: 1, 3: 2, 4: 2, 5: 2, 6: 2})\n",
    "\n",
    "\n",
    "df_filtered = data[data['姓名'].isin(name2id.keys())].copy()\n",
    "df_filtered.loc[:, 'cluster'] = df_filtered['姓名'].map(name2cluster)\n",
    "\n",
    "df_filtered = df_filtered.rename(columns={'姓名': 'name'})\n",
    "\n",
    "df_filtered.loc[:, '性别'] = df_filtered['性别'].map({'男': 0, '女': 1})\n",
    "df_filtered['性别'] = df_filtered['性别'].astype(int)\n",
    "df_filtered.loc[:, '转归'] = df_filtered['转归'].map({'存活': 1, '死亡': 0, '好转': 1, \"未愈\": 0, \"其他\": 1})\n",
    "df_filtered['转归'] = df_filtered['转归'].astype(int)\n",
    "df_filtered.loc[:, '机械通气'] = df_filtered['机械通气'].map({'无': 0, '有': 1})\n",
    "df_filtered['机械通气'] = df_filtered['机械通气'].astype(int)\n",
    "df_filtered.loc[:, '是否二感'] = df_filtered['是否二感'].map({'否': 0, '是': 1, '疑似': 0})\n",
    "df_filtered['是否二感'] = df_filtered['是否二感'].astype(int)\n",
    "df_filtered.loc[:, '慢性病个数'] = df_filtered['慢性病个数'].map({0: 0, 1: 1, 2: 1, 3: 2, 4: 2, 5: 2, 6: 2})\n",
    "df_filtered['慢性病个数'] = df_filtered['慢性病个数'].astype(int)\n",
    "\n",
    "des_csv = f\"{root_path}/results/multireg/72h/cluster_feature_adjust.csv\"\n",
    "if not os.path.exists(os.path.dirname(des_csv)):\n",
    "    os.makedirs(os.path.dirname(des_csv), exist_ok=True)\n",
    "df_filtered.to_csv(des_csv, index=False)"
   ]
  },
  {
   "cell_type": "code",
   "execution_count": 6,
   "metadata": {
    "metadata": {}
   },
   "outputs": [],
   "source": [
    "import pandas as pd\n",
    "import statsmodels.api as sm\n",
    "from sklearn.preprocessing import OneHotEncoder\n",
    "\n",
    "df = df_filtered\n",
    "\n",
    "# 生成 cluster 的虚拟变量，基准类别为 cluster=4\n",
    "df = pd.get_dummies(df, columns=['cluster'], drop_first=False)\n",
    "df = df.rename(columns={'cluster_2': 'cluster_2', 'cluster_3': 'cluster_3', 'cluster_4': 'cluster_4'})\n",
    "# df = df.drop(columns=['cluster_4'])\n",
    "\n",
    "# 生成慢性病个数的虚拟变量，基准类别为 0 (没有慢性病)\n",
    "df = pd.get_dummies(df, columns=['慢性病个数'], drop_first=False)\n",
    "df = df.rename(columns={'慢性病个数_1': '慢性病个数_1', '慢性病个数_2': '慢性病个数_2'})"
   ]
  },
  {
   "cell_type": "code",
   "execution_count": 7,
   "metadata": {
    "metadata": {}
   },
   "outputs": [],
   "source": [
    "df['cluster_1'] = df['cluster_1'].astype(int)\n",
    "df['cluster_2'] = df['cluster_2'].astype(int)\n",
    "df['cluster_3'] = df['cluster_3'].astype(int)\n",
    "df['cluster_4'] = df['cluster_4'].astype(int)\n",
    "df['慢性病个数_0'] = df['慢性病个数_0'].astype(int)\n",
    "df['慢性病个数_1'] = df['慢性病个数_1'].astype(int)\n",
    "df['慢性病个数_2'] = df['慢性病个数_2'].astype(int)"
   ]
  },
  {
   "cell_type": "code",
   "execution_count": 9,
   "metadata": {
    "metadata": {}
   },
   "outputs": [
    {
     "name": "stdout",
     "output_type": "stream",
     "text": [
      "Optimization terminated successfully.\n",
      "         Current function value: 0.570078\n",
      "         Iterations 6\n",
      "                           Logit Regression Results                           \n",
      "==============================================================================\n",
      "Dep. Variable:                     转归   No. Observations:                  313\n",
      "Model:                          Logit   Df Residuals:                      304\n",
      "Method:                           MLE   Df Model:                            8\n",
      "Date:                Wed, 22 May 2024   Pseudo R-squ.:                 0.05430\n",
      "Time:                        17:42:54   Log-Likelihood:                -178.43\n",
      "converged:                       True   LL-Null:                       -188.68\n",
      "Covariance Type:            nonrobust   LLR p-value:                  0.008635\n",
      "==============================================================================\n",
      "                 coef    std err          z      P>|z|      [0.025      0.975]\n",
      "------------------------------------------------------------------------------\n",
      "const         -0.3526      0.923     -0.382      0.703      -2.162       1.457\n",
      "性别             0.3438      0.271      1.270      0.204      -0.187       0.874\n",
      "年龄            -0.0082      0.010     -0.816      0.415      -0.028       0.012\n",
      "APACHE        -0.0411      0.018     -2.310      0.021      -0.076      -0.006\n",
      "cluster_2      0.1775      0.633      0.280      0.779      -1.064       1.418\n",
      "cluster_3      0.8439      0.570      1.480      0.139      -0.274       1.962\n",
      "cluster_4      1.1179      0.513      2.178      0.029       0.112       2.124\n",
      "慢性病个数_1        0.0810      0.389      0.208      0.835      -0.682       0.844\n",
      "慢性病个数_2       -0.1490      0.462     -0.323      0.747      -1.054       0.756\n",
      "==============================================================================\n"
     ]
    }
   ],
   "source": [
    "# 定义自变量和因变量\n",
    "X = df[['性别', '年龄', 'APACHE', 'cluster_2', 'cluster_3', 'cluster_4', '慢性病个数_1', '慢性病个数_2']]\n",
    "y = df['转归']\n",
    "\n",
    "# 添加常数项\n",
    "X = sm.add_constant(X)\n",
    "\n",
    "# 建立逻辑回归模型\n",
    "logit_model = sm.Logit(y, X)\n",
    "result = logit_model.fit()\n",
    "\n",
    "# 输出结果\n",
    "print(result.summary())\n"
   ]
  },
  {
   "cell_type": "code",
   "execution_count": null,
   "metadata": {},
   "outputs": [],
   "source": []
  }
 ],
 "metadata": {
  "kernelspec": {
   "display_name": "base",
   "language": "python",
   "name": "python3"
  },
  "language_info": {
   "codemirror_mode": {
    "name": "ipython",
    "version": 3
   },
   "file_extension": ".py",
   "mimetype": "text/x-python",
   "name": "python",
   "nbconvert_exporter": "python",
   "pygments_lexer": "ipython3",
   "version": "3.9.16"
  }
 },
 "nbformat": 4,
 "nbformat_minor": 2
}
