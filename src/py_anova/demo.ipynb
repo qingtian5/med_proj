{
 "cells": [
  {
   "cell_type": "code",
   "execution_count": 14,
   "metadata": {
    "metadata": {}
   },
   "outputs": [],
   "source": [
    "import pandas as pd\n",
    "import numpy as np\n",
    "import os\n",
    "import json\n",
    "\n",
    "# 读取数据\n",
    "root_path = \"/mnt/pfs-mc0p4k/cv/team/panxuhao/playground/repo/med_proj\"\n",
    "file_path = f\"{root_path}/data/all_data.xlsx\"\n",
    "data = pd.read_excel(file_path)\n",
    "\n",
    "id2cluster = pd.read_csv(f\"{root_path}/data/48h/result.csv\", index_col=None, header=0)\n",
    "with open(f\"{root_path}/results/dataprocess/48h/name_id_mapping.json\", \"r\", encoding=\"utf-8\") as f:\n",
    "    name2id = json.load(f)\n",
    "id2name = {v: k for k, v in name2id.items()}\n",
    "\n",
    "name2cluster = {}\n",
    "for index, row in id2cluster.iterrows():\n",
    "    name2cluster[id2name[row['ID']]] = row['cluster']"
   ]
  },
  {
   "cell_type": "code",
   "execution_count": 15,
   "metadata": {},
   "outputs": [],
   "source": [
    "with open(f\"{root_path}/results/anova/48h/name2cluster.txt\", \"w\", encoding=\"utf-8\") as f:\n",
    "    for name, cluster in name2cluster.items():\n",
    "        f.write(f\"{name}, {cluster}\\n\")"
   ]
  },
  {
   "cell_type": "code",
   "execution_count": 16,
   "metadata": {},
   "outputs": [
    {
     "data": {
      "text/plain": [
       "死亡    200\n",
       "存活    126\n",
       "Name: 转归, dtype: int64"
      ]
     },
     "execution_count": 16,
     "metadata": {},
     "output_type": "execute_result"
    }
   ],
   "source": [
    "root_path = \"/mnt/pfs-mc0p4k/cv/team/panxuhao/playground/repo/med_proj\"\n",
    "file_path = f\"{root_path}/data/all_data.xlsx\"\n",
    "data = pd.read_excel(file_path)\n",
    "data[\"转归\"].value_counts()"
   ]
  },
  {
   "cell_type": "code",
   "execution_count": 17,
   "metadata": {
    "metadata": {}
   },
   "outputs": [
    {
     "name": "stderr",
     "output_type": "stream",
     "text": [
      "/tmp/ipykernel_651127/1950129209.py:4: SettingWithCopyWarning: \n",
      "A value is trying to be set on a copy of a slice from a DataFrame.\n",
      "Try using .loc[row_indexer,col_indexer] = value instead\n",
      "\n",
      "See the caveats in the documentation: https://pandas.pydata.org/pandas-docs/stable/user_guide/indexing.html#returning-a-view-versus-a-copy\n",
      "  df_filtered['cluster'] = df_filtered['姓名'].map(name2cluster)\n",
      "/opt/conda/lib/python3.9/site-packages/pandas/core/frame.py:5039: SettingWithCopyWarning: \n",
      "A value is trying to be set on a copy of a slice from a DataFrame\n",
      "\n",
      "See the caveats in the documentation: https://pandas.pydata.org/pandas-docs/stable/user_guide/indexing.html#returning-a-view-versus-a-copy\n",
      "  return super().rename(\n",
      "/tmp/ipykernel_651127/1950129209.py:6: SettingWithCopyWarning: \n",
      "A value is trying to be set on a copy of a slice from a DataFrame.\n",
      "Try using .loc[row_indexer,col_indexer] = value instead\n",
      "\n",
      "See the caveats in the documentation: https://pandas.pydata.org/pandas-docs/stable/user_guide/indexing.html#returning-a-view-versus-a-copy\n",
      "  df_filtered['性别'] = df_filtered['性别'].replace({'男': 1, '女': 0})\n",
      "/tmp/ipykernel_651127/1950129209.py:7: SettingWithCopyWarning: \n",
      "A value is trying to be set on a copy of a slice from a DataFrame.\n",
      "Try using .loc[row_indexer,col_indexer] = value instead\n",
      "\n",
      "See the caveats in the documentation: https://pandas.pydata.org/pandas-docs/stable/user_guide/indexing.html#returning-a-view-versus-a-copy\n",
      "  df_filtered['转归'] = df_filtered['转归'].replace({'存活': 0,'死亡': 1, '好转':0, \"未愈\": 1, \"其他\":0})\n",
      "/tmp/ipykernel_651127/1950129209.py:8: SettingWithCopyWarning: \n",
      "A value is trying to be set on a copy of a slice from a DataFrame.\n",
      "Try using .loc[row_indexer,col_indexer] = value instead\n",
      "\n",
      "See the caveats in the documentation: https://pandas.pydata.org/pandas-docs/stable/user_guide/indexing.html#returning-a-view-versus-a-copy\n",
      "  df_filtered['机械通气'] = df_filtered['机械通气'].replace({'无': 0, '有': 1})\n",
      "/tmp/ipykernel_651127/1950129209.py:9: SettingWithCopyWarning: \n",
      "A value is trying to be set on a copy of a slice from a DataFrame.\n",
      "Try using .loc[row_indexer,col_indexer] = value instead\n",
      "\n",
      "See the caveats in the documentation: https://pandas.pydata.org/pandas-docs/stable/user_guide/indexing.html#returning-a-view-versus-a-copy\n",
      "  df_filtered['是否二感'] = df_filtered['是否二感'].replace({'否': 0, '是': 1, '疑似': 0})\n",
      "/tmp/ipykernel_651127/1950129209.py:10: SettingWithCopyWarning: \n",
      "A value is trying to be set on a copy of a slice from a DataFrame.\n",
      "Try using .loc[row_indexer,col_indexer] = value instead\n",
      "\n",
      "See the caveats in the documentation: https://pandas.pydata.org/pandas-docs/stable/user_guide/indexing.html#returning-a-view-versus-a-copy\n",
      "  df_filtered['感染部位拼接'] = df_filtered['入院感染部位'] + df_filtered['新感部位']\n",
      "/tmp/ipykernel_651127/1950129209.py:11: SettingWithCopyWarning: \n",
      "A value is trying to be set on a copy of a slice from a DataFrame.\n",
      "Try using .loc[row_indexer,col_indexer] = value instead\n",
      "\n",
      "See the caveats in the documentation: https://pandas.pydata.org/pandas-docs/stable/user_guide/indexing.html#returning-a-view-versus-a-copy\n",
      "  df_filtered['慢性病个数'] = df_filtered['慢性病个数'].replace({0: 0, 1: 1, 2: 1, 3: 1, 4: 1, 5: 1, 6: 1})\n",
      "/tmp/ipykernel_651127/1950129209.py:13: SettingWithCopyWarning: \n",
      "A value is trying to be set on a copy of a slice from a DataFrame.\n",
      "Try using .loc[row_indexer,col_indexer] = value instead\n",
      "\n",
      "See the caveats in the documentation: https://pandas.pydata.org/pandas-docs/stable/user_guide/indexing.html#returning-a-view-versus-a-copy\n",
      "  df_filtered['感染部位拼接'] = df_filtered['感染部位拼接'].apply(lambda x: 1 if '血液' in x else 0)\n",
      "/tmp/ipykernel_651127/1950129209.py:14: SettingWithCopyWarning: \n",
      "A value is trying to be set on a copy of a slice from a DataFrame.\n",
      "Try using .loc[row_indexer,col_indexer] = value instead\n",
      "\n",
      "See the caveats in the documentation: https://pandas.pydata.org/pandas-docs/stable/user_guide/indexing.html#returning-a-view-versus-a-copy\n",
      "  df_filtered['入院感染部位'] = df_filtered['入院感染部位'].apply(lambda x: 1 if '血液' in x else 0)\n",
      "/tmp/ipykernel_651127/1950129209.py:15: SettingWithCopyWarning: \n",
      "A value is trying to be set on a copy of a slice from a DataFrame.\n",
      "Try using .loc[row_indexer,col_indexer] = value instead\n",
      "\n",
      "See the caveats in the documentation: https://pandas.pydata.org/pandas-docs/stable/user_guide/indexing.html#returning-a-view-versus-a-copy\n",
      "  df_filtered['新感部位'] = df_filtered['新感部位'].apply(lambda x: 1 if '血液' in x else 0)\n"
     ]
    }
   ],
   "source": [
    "df_filtered = data[data['姓名'].isin(name2id.keys())]\n",
    "\n",
    "# 将 name2id 中的对应ID添加到新列中\n",
    "df_filtered['cluster'] = df_filtered['姓名'].map(name2cluster)\n",
    "df_filtered.rename(columns={'姓名': 'name'}, inplace=True)\n",
    "df_filtered['性别'] = df_filtered['性别'].replace({'男': 1, '女': 0})\n",
    "df_filtered['转归'] = df_filtered['转归'].replace({'存活': 0,'死亡': 1, '好转':0, \"未愈\": 1, \"其他\":0})\n",
    "df_filtered['机械通气'] = df_filtered['机械通气'].replace({'无': 0, '有': 1})\n",
    "df_filtered['是否二感'] = df_filtered['是否二感'].replace({'否': 0, '是': 1, '疑似': 0})\n",
    "df_filtered['感染部位拼接'] = df_filtered['入院感染部位'] + df_filtered['新感部位']\n",
    "df_filtered['慢性病个数'] = df_filtered['慢性病个数'].replace({0: 0, 1: 1, 2: 1, 3: 1, 4: 1, 5: 1, 6: 1})\n",
    "\n",
    "df_filtered['感染部位拼接'] = df_filtered['感染部位拼接'].apply(lambda x: 1 if '血液' in x else 0)\n",
    "df_filtered['入院感染部位'] = df_filtered['入院感染部位'].apply(lambda x: 1 if '血液' in x else 0)\n",
    "df_filtered['新感部位'] = df_filtered['新感部位'].apply(lambda x: 1 if '血液' in x else 0)"
   ]
  },
  {
   "cell_type": "code",
   "execution_count": 18,
   "metadata": {
    "metadata": {}
   },
   "outputs": [],
   "source": [
    "df_filtered.to_csv(f'{root_path}/results/anova/48h/cluster_feature_adjust.csv', index=False)"
   ]
  },
  {
   "cell_type": "markdown",
   "metadata": {},
   "source": [
    "### 使用方差分析得到结结果"
   ]
  },
  {
   "cell_type": "code",
   "execution_count": 19,
   "metadata": {
    "metadata": {}
   },
   "outputs": [],
   "source": [
    "from scipy.stats import f_oneway\n",
    "import numpy as np\n",
    "\n",
    "data = df_filtered\n",
    "# Extracting columns for ANOVA, excluding 'name' and 'cluster' columns\n",
    "anova_columns = data.columns.drop(['name', 'cluster'])\n",
    "\n",
    "# Dictionary to hold ANOVA results\n",
    "anova_results = {}\n",
    "\n",
    "# Performing ANOVA for each column and storing the results\n",
    "for column in anova_columns:\n",
    "    groups = data.groupby('cluster')[column].apply(list)\n",
    "    f_val, p_val = f_oneway(*groups)\n",
    "    anova_results[column] = {'F-value': f_val, 'p-value': p_val}\n",
    "\n",
    "# Convert ANOVA results to a DataFrame\n",
    "anova_df = pd.DataFrame(anova_results).T\n",
    "\n",
    "# Calculating mean values for each column per cluster\n",
    "mean_values = data.groupby('cluster')[anova_columns].mean()\n",
    "\n",
    "# Calculating median values for each column per cluster\n",
    "median_values = data.groupby('cluster')[anova_columns].median()\n",
    "\n",
    "# Calculating count of each column per cluster\n",
    "group_counts = data.groupby('cluster').size().reset_index(name='count')\n",
    "\n",
    "anova_df.to_csv(f'{root_path}/results/anova/48h/anova.csv', encoding=\"utf-8-sig\")\n",
    "mean_values.to_csv(f'{root_path}/results/anova/48h/mean_values.csv', encoding=\"utf-8-sig\")\n",
    "median_values.to_csv(f'{root_path}/results/anova/48h/median_values.csv', encoding=\"utf-8-sig\")\n",
    "group_counts.to_csv(f'{root_path}/results/anova/48h/group_counts.csv', encoding=\"utf-8-sig\")"
   ]
  },
  {
   "cell_type": "markdown",
   "metadata": {},
   "source": [
    "#### 比较其中一组和其他三组的差异"
   ]
  },
  {
   "cell_type": "code",
   "execution_count": 7,
   "metadata": {
    "metadata": {}
   },
   "outputs": [],
   "source": [
    "from scipy.stats import f_oneway\n",
    "import pandas as pd\n",
    "\n",
    "# 假设 df_filtered 是你的数据框\n",
    "data = df_filtered\n",
    "\n",
    "# 初始化结果存储字典\n",
    "anova_results_by_cluster = {}\n",
    "\n",
    "# 需要比较的 cluster 列表\n",
    "clusters_to_compare = [1, 2, 3]\n",
    "\n",
    "# 遍历除了'name'和'cluster'外的所有列\n",
    "for column in data.columns.drop(['name', 'cluster']):\n",
    "    # 存储当前列的比较结果\n",
    "    column_results = {}\n",
    "    \n",
    "    # 对每个需要比较的 cluster 执行 ANOVA\n",
    "    for compare_cluster in clusters_to_compare:\n",
    "        # 提取 cluster = 4 和当前比较 cluster 的数据\n",
    "        group1 = data[data['cluster'] == 4][column]\n",
    "        group2 = data[data['cluster'] == compare_cluster][column]\n",
    "\n",
    "        # 执行 ANOVA\n",
    "        f_val, p_val = f_oneway(group1, group2)\n",
    "        column_results[f'cluster_4_vs_{compare_cluster}'] = {'F-value': f_val, 'p-value': p_val}\n",
    "    \n",
    "    # 将当前列的结果存入总字典\n",
    "    anova_results_by_cluster[column] = column_results\n",
    "\n",
    "# 将结果转换为更方便阅读的形式\n",
    "anova_df = pd.DataFrame.from_dict({(i, j): anova_results_by_cluster[i][j] \n",
    "                                   for i in anova_results_by_cluster.keys() \n",
    "                                   for j in anova_results_by_cluster[i].keys()},\n",
    "                                  orient='index')\n",
    "\n",
    "# 可以将结果保存为 CSV 文件\n",
    "anova_df.to_csv(f'{root_path}/results/anova/48h/cluster_4_comparisons.csv', encoding=\"utf-8-sig\")\n"
   ]
  },
  {
   "cell_type": "markdown",
   "metadata": {},
   "source": [
    "#### 两两之间的差异"
   ]
  },
  {
   "cell_type": "code",
   "execution_count": 23,
   "metadata": {},
   "outputs": [],
   "source": [
    "from scipy.stats import f_oneway\n",
    "import pandas as pd\n",
    "import itertools\n",
    "\n",
    "# 假设 df_filtered 是你的数据框\n",
    "data = df_filtered\n",
    "\n",
    "# 初始化结果存储字典\n",
    "anova_results_by_cluster = {}\n",
    "\n",
    "# 获取所有 unique 的 cluster 值\n",
    "clusters = data['cluster'].unique()\n",
    "\n",
    "# 遍历除了 'name' 和 'cluster' 外的所有列\n",
    "for column in data.columns.drop(['name', 'cluster']):\n",
    "    # 存储当前列的比较结果\n",
    "    column_results = {}\n",
    "    \n",
    "    # 对每个可能的 cluster 组合执行 ANOVA\n",
    "    for (cluster1, cluster2) in itertools.combinations(clusters, 2):\n",
    "        # 提取 cluster1 和 cluster2 的数据\n",
    "        group1 = data[data['cluster'] == cluster1][column]\n",
    "        group2 = data[data['cluster'] == cluster2][column]\n",
    "\n",
    "        # 执行 ANOVA\n",
    "        f_val, p_val = f_oneway(group1, group2)\n",
    "        column_results[f'cluster_{cluster1}_vs_{cluster2}'] = {'F-value': f_val, 'p-value': p_val}\n",
    "    \n",
    "    # 将当前列的结果存入总字典\n",
    "    anova_results_by_cluster[column] = column_results\n",
    "\n",
    "# 将结果转换为更方便阅读的形式\n",
    "anova_df = pd.DataFrame.from_dict({(i, j): anova_results_by_cluster[i][j] \n",
    "                                   for i in anova_results_by_cluster.keys() \n",
    "                                   for j in anova_results_by_cluster[i].keys()},\n",
    "                                  orient='index')\n",
    "\n",
    "# 可以将结果保存为 CSV 文件\n",
    "anova_df.to_csv(f'{root_path}/results/anova/48h/all_clusters_comparisons.csv', encoding=\"utf-8-sig\")\n"
   ]
  }
 ],
 "metadata": {
  "kernelspec": {
   "display_name": "base",
   "language": "python",
   "name": "python3"
  },
  "language_info": {
   "codemirror_mode": {
    "name": "ipython",
    "version": 3
   },
   "file_extension": ".py",
   "mimetype": "text/x-python",
   "name": "python",
   "nbconvert_exporter": "python",
   "pygments_lexer": "ipython3",
   "version": "3.9.12"
  }
 },
 "nbformat": 4,
 "nbformat_minor": 2
}
