{
 "cells": [
  {
   "cell_type": "code",
   "execution_count": 1,
   "metadata": {},
   "outputs": [],
   "source": [
    "import pandas as pd\n",
    "import numpy as np\n",
    "import os\n",
    "import json\n",
    "\n",
    "# 读取数据\n",
    "root_path = \"/workspace/med_proj\"\n",
    "file_path = f\"{root_path}/data/all_data.xlsx\"\n",
    "data = pd.read_excel(file_path)\n",
    "\n",
    "id2cluster = pd.read_csv(f\"{root_path}/data/result.csv\", index_col=None, header=0)\n",
    "with open(f\"{root_path}/results/dataprocess/name_id_mapping.json\", \"r\", encoding=\"utf-8\") as f:\n",
    "    name2id = json.load(f)\n",
    "id2name = {v: k for k, v in name2id.items()}\n",
    "\n",
    "name2cluster = {}\n",
    "for index, row in id2cluster.iterrows():\n",
    "    name2cluster[id2name[row['ID']]] = row['cluster']"
   ]
  },
  {
   "cell_type": "code",
   "execution_count": 2,
   "metadata": {},
   "outputs": [
    {
     "name": "stderr",
     "output_type": "stream",
     "text": [
      "/tmp/ipykernel_3829704/3662610358.py:4: SettingWithCopyWarning: \n",
      "A value is trying to be set on a copy of a slice from a DataFrame.\n",
      "Try using .loc[row_indexer,col_indexer] = value instead\n",
      "\n",
      "See the caveats in the documentation: https://pandas.pydata.org/pandas-docs/stable/user_guide/indexing.html#returning-a-view-versus-a-copy\n",
      "  df_filtered['cluster'] = df_filtered['姓名'].map(name2cluster)\n",
      "/tmp/ipykernel_3829704/3662610358.py:5: SettingWithCopyWarning: \n",
      "A value is trying to be set on a copy of a slice from a DataFrame\n",
      "\n",
      "See the caveats in the documentation: https://pandas.pydata.org/pandas-docs/stable/user_guide/indexing.html#returning-a-view-versus-a-copy\n",
      "  df_filtered.rename(columns={'姓名': 'name'}, inplace=True)\n",
      "/tmp/ipykernel_3829704/3662610358.py:6: FutureWarning: Downcasting behavior in `replace` is deprecated and will be removed in a future version. To retain the old behavior, explicitly call `result.infer_objects(copy=False)`. To opt-in to the future behavior, set `pd.set_option('future.no_silent_downcasting', True)`\n",
      "  df_filtered['性别'] = df_filtered['性别'].replace({'男': 0, '女': 1})\n",
      "/tmp/ipykernel_3829704/3662610358.py:6: SettingWithCopyWarning: \n",
      "A value is trying to be set on a copy of a slice from a DataFrame.\n",
      "Try using .loc[row_indexer,col_indexer] = value instead\n",
      "\n",
      "See the caveats in the documentation: https://pandas.pydata.org/pandas-docs/stable/user_guide/indexing.html#returning-a-view-versus-a-copy\n",
      "  df_filtered['性别'] = df_filtered['性别'].replace({'男': 0, '女': 1})\n",
      "/tmp/ipykernel_3829704/3662610358.py:7: FutureWarning: Downcasting behavior in `replace` is deprecated and will be removed in a future version. To retain the old behavior, explicitly call `result.infer_objects(copy=False)`. To opt-in to the future behavior, set `pd.set_option('future.no_silent_downcasting', True)`\n",
      "  df_filtered['转归'] = df_filtered['转归'].replace({'存活': 1,'死亡': 0, '好转': 1, \"未愈\": 0, \"其他\":1})\n",
      "/tmp/ipykernel_3829704/3662610358.py:7: SettingWithCopyWarning: \n",
      "A value is trying to be set on a copy of a slice from a DataFrame.\n",
      "Try using .loc[row_indexer,col_indexer] = value instead\n",
      "\n",
      "See the caveats in the documentation: https://pandas.pydata.org/pandas-docs/stable/user_guide/indexing.html#returning-a-view-versus-a-copy\n",
      "  df_filtered['转归'] = df_filtered['转归'].replace({'存活': 1,'死亡': 0, '好转': 1, \"未愈\": 0, \"其他\":1})\n",
      "/tmp/ipykernel_3829704/3662610358.py:8: FutureWarning: Downcasting behavior in `replace` is deprecated and will be removed in a future version. To retain the old behavior, explicitly call `result.infer_objects(copy=False)`. To opt-in to the future behavior, set `pd.set_option('future.no_silent_downcasting', True)`\n",
      "  df_filtered['机械通气'] = df_filtered['机械通气'].replace({'无': 0, '有': 1})\n",
      "/tmp/ipykernel_3829704/3662610358.py:8: SettingWithCopyWarning: \n",
      "A value is trying to be set on a copy of a slice from a DataFrame.\n",
      "Try using .loc[row_indexer,col_indexer] = value instead\n",
      "\n",
      "See the caveats in the documentation: https://pandas.pydata.org/pandas-docs/stable/user_guide/indexing.html#returning-a-view-versus-a-copy\n",
      "  df_filtered['机械通气'] = df_filtered['机械通气'].replace({'无': 0, '有': 1})\n",
      "/tmp/ipykernel_3829704/3662610358.py:9: FutureWarning: Downcasting behavior in `replace` is deprecated and will be removed in a future version. To retain the old behavior, explicitly call `result.infer_objects(copy=False)`. To opt-in to the future behavior, set `pd.set_option('future.no_silent_downcasting', True)`\n",
      "  df_filtered['是否二感'] = df_filtered['是否二感'].replace({'否': 0, '是': 1, '疑似': 0})\n",
      "/tmp/ipykernel_3829704/3662610358.py:9: SettingWithCopyWarning: \n",
      "A value is trying to be set on a copy of a slice from a DataFrame.\n",
      "Try using .loc[row_indexer,col_indexer] = value instead\n",
      "\n",
      "See the caveats in the documentation: https://pandas.pydata.org/pandas-docs/stable/user_guide/indexing.html#returning-a-view-versus-a-copy\n",
      "  df_filtered['是否二感'] = df_filtered['是否二感'].replace({'否': 0, '是': 1, '疑似': 0})\n"
     ]
    }
   ],
   "source": [
    "df_filtered = data[data['姓名'].isin(name2id.keys())]\n",
    "\n",
    "# 将 name2id 中的对应ID添加到新列中\n",
    "df_filtered['cluster'] = df_filtered['姓名'].map(name2cluster)\n",
    "df_filtered.rename(columns={'姓名': 'name'}, inplace=True)\n",
    "df_filtered['性别'] = df_filtered['性别'].replace({'男': 0, '女': 1})\n",
    "df_filtered['转归'] = df_filtered['转归'].replace({'存活': 1,'死亡': 0, '好转': 1, \"未愈\": 0, \"其他\":1})\n",
    "df_filtered['机械通气'] = df_filtered['机械通气'].replace({'无': 0, '有': 1})\n",
    "df_filtered['是否二感'] = df_filtered['是否二感'].replace({'否': 0, '是': 1, '疑似': 0})"
   ]
  },
  {
   "cell_type": "code",
   "execution_count": 3,
   "metadata": {},
   "outputs": [],
   "source": [
    "df_filtered.to_csv(f'{root_path}/results/anova/cluster_feature_adjust.csv', index=False)"
   ]
  },
  {
   "cell_type": "markdown",
   "metadata": {},
   "source": [
    "### 使用方差分析得到结结果"
   ]
  },
  {
   "cell_type": "code",
   "execution_count": 5,
   "metadata": {},
   "outputs": [],
   "source": [
    "from scipy.stats import f_oneway\n",
    "import numpy as np\n",
    "\n",
    "data = df_filtered\n",
    "# Extracting columns for ANOVA, excluding 'name' and 'cluster' columns\n",
    "anova_columns = data.columns.drop(['name', 'cluster'])\n",
    "\n",
    "# Dictionary to hold ANOVA results\n",
    "anova_results = {}\n",
    "\n",
    "# Performing ANOVA for each column and storing the results\n",
    "for column in anova_columns:\n",
    "    groups = data.groupby('cluster')[column].apply(list)\n",
    "    f_val, p_val = f_oneway(*groups)\n",
    "    anova_results[column] = {'F-value': f_val, 'p-value': p_val}\n",
    "\n",
    "# Convert ANOVA results to a DataFrame\n",
    "anova_df = pd.DataFrame(anova_results).T\n",
    "\n",
    "# Calculating mean values for each column per cluster\n",
    "mean_values = data.groupby('cluster')[anova_columns].mean()\n",
    "\n",
    "\n",
    "anova_df.to_csv(f'{root_path}/results/anova/anova.csv', encoding=\"utf-8-sig\")\n",
    "mean_values.to_csv(f'{root_path}/results/anova/mean_values.csv', encoding=\"utf-8-sig\")"
   ]
  },
  {
   "cell_type": "code",
   "execution_count": 6,
   "metadata": {},
   "outputs": [],
   "source": [
    "from scipy.stats import f_oneway\n",
    "import pandas as pd\n",
    "\n",
    "# 假设 df_filtered 是你的数据框\n",
    "data = df_filtered\n",
    "\n",
    "# 初始化结果存储字典\n",
    "anova_results_by_cluster = {}\n",
    "\n",
    "# 需要比较的 cluster 列表\n",
    "clusters_to_compare = [1, 2, 4]\n",
    "\n",
    "# 遍历除了'name'和'cluster'外的所有列\n",
    "for column in data.columns.drop(['name', 'cluster']):\n",
    "    # 存储当前列的比较结果\n",
    "    column_results = {}\n",
    "    \n",
    "    # 对每个需要比较的 cluster 执行 ANOVA\n",
    "    for compare_cluster in clusters_to_compare:\n",
    "        # 提取 cluster = 3 和当前比较 cluster 的数据\n",
    "        group1 = data[data['cluster'] == 3][column]\n",
    "        group2 = data[data['cluster'] == compare_cluster][column]\n",
    "\n",
    "        # 执行 ANOVA\n",
    "        f_val, p_val = f_oneway(group1, group2)\n",
    "        column_results[f'cluster_3_vs_{compare_cluster}'] = {'F-value': f_val, 'p-value': p_val}\n",
    "    \n",
    "    # 将当前列的结果存入总字典\n",
    "    anova_results_by_cluster[column] = column_results\n",
    "\n",
    "# 将结果转换为更方便阅读的形式\n",
    "anova_df = pd.DataFrame.from_dict({(i, j): anova_results_by_cluster[i][j] \n",
    "                                   for i in anova_results_by_cluster.keys() \n",
    "                                   for j in anova_results_by_cluster[i].keys()},\n",
    "                                  orient='index')\n",
    "\n",
    "# 可以将结果保存为 CSV 文件\n",
    "anova_df.to_csv(f'{root_path}/results/anova/cluster_3_comparisons.csv', encoding=\"utf-8-sig\")\n"
   ]
  },
  {
   "cell_type": "code",
   "execution_count": null,
   "metadata": {},
   "outputs": [],
   "source": []
  }
 ],
 "metadata": {
  "kernelspec": {
   "display_name": "base",
   "language": "python",
   "name": "python3"
  },
  "language_info": {
   "codemirror_mode": {
    "name": "ipython",
    "version": 3
   },
   "file_extension": ".py",
   "mimetype": "text/x-python",
   "name": "python",
   "nbconvert_exporter": "python",
   "pygments_lexer": "ipython3",
   "version": "3.9.16"
  }
 },
 "nbformat": 4,
 "nbformat_minor": 2
}
